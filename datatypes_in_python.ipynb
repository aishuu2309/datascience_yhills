{
 "cells": [
  {
   "cell_type": "code",
   "execution_count": 1,
   "id": "b172a7ba",
   "metadata": {},
   "outputs": [],
   "source": [
    "x=100\n",
    "y=1.5\n",
    "z=\"Aishu\"\n",
    "a=True"
   ]
  },
  {
   "cell_type": "code",
   "execution_count": 2,
   "id": "a113120d",
   "metadata": {},
   "outputs": [
    {
     "name": "stdout",
     "output_type": "stream",
     "text": [
      "100\n",
      "1.5\n",
      "Aishu\n",
      "True\n"
     ]
    }
   ],
   "source": [
    "type(x)\n",
    "type(y)\n",
    "type(z)\n",
    "type(a)"
   ]
  },
  {
   "cell_type": "code",
   "execution_count": null,
   "id": "ce70bc6d",
   "metadata": {},
   "outputs": [],
   "source": [
    "# int ( without decimal )\n",
    "# float ( with decimal )\n",
    "# str = string ( text )\n",
    "# bool = boolean ( true / false )"
   ]
  }
 ],
 "metadata": {
  "kernelspec": {
   "display_name": "Python 3 (ipykernel)",
   "language": "python",
   "name": "python3"
  },
  "language_info": {
   "codemirror_mode": {
    "name": "ipython",
    "version": 3
   },
   "file_extension": ".py",
   "mimetype": "text/x-python",
   "name": "python",
   "nbconvert_exporter": "python",
   "pygments_lexer": "ipython3",
   "version": "3.9.13"
  }
 },
 "nbformat": 4,
 "nbformat_minor": 5
}
