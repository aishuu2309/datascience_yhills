{
 "cells": [
  {
   "cell_type": "markdown",
   "id": "3036c745",
   "metadata": {},
   "source": [
    "### Printing Hello World\n"
   ]
  },
  {
   "cell_type": "code",
   "execution_count": 1,
   "id": "6bd52053",
   "metadata": {},
   "outputs": [
    {
     "name": "stdout",
     "output_type": "stream",
     "text": [
      "Hello world\n"
     ]
    }
   ],
   "source": [
    "print(\"Hello world\")"
   ]
  },
  {
   "cell_type": "markdown",
   "id": "ab2ca94a",
   "metadata": {},
   "source": [
    "#### Python is case sensitive"
   ]
  },
  {
   "cell_type": "code",
   "execution_count": 2,
   "id": "58189927",
   "metadata": {},
   "outputs": [
    {
     "name": "stdout",
     "output_type": "stream",
     "text": [
      "Aishwarya Singh\n"
     ]
    }
   ],
   "source": [
    "print(\"Aishwarya Singh\")\n"
   ]
  },
  {
   "cell_type": "code",
   "execution_count": null,
   "id": "351aba64",
   "metadata": {},
   "outputs": [],
   "source": []
  }
 ],
 "metadata": {
  "kernelspec": {
   "display_name": "Python 3 (ipykernel)",
   "language": "python",
   "name": "python3"
  },
  "language_info": {
   "codemirror_mode": {
    "name": "ipython",
    "version": 3
   },
   "file_extension": ".py",
   "mimetype": "text/x-python",
   "name": "python",
   "nbconvert_exporter": "python",
   "pygments_lexer": "ipython3",
   "version": "3.9.13"
  }
 },
 "nbformat": 4,
 "nbformat_minor": 5
}
